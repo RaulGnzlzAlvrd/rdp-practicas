{
 "cells": [
  {
   "cell_type": "markdown",
   "metadata": {
    "id": "Sgs9448Kz7Td"
   },
   "source": [
    "# **Carga de datos MNIST**\n",
    "\n",
    "Este script contiene dos funciones principales, dado el archivo de datos mnist-original en el directorio raíz:\n",
    "\n",
    "1.   load_mnist_dataset. Carga el archivo de imágenes y regresa la intensidad de sus pixeles y etiquetas\n",
    "2.   plot_images_sample. Grafica imágenes aleatorias del archivo MNIST junto con sus etiquetas\n",
    "\n"
   ]
  },
  {
   "cell_type": "markdown",
   "metadata": {
    "id": "137xSJFt1bmU"
   },
   "source": [
    "Bibliotecas necesarias para cargar y graficar los datos"
   ]
  },
  {
   "cell_type": "code",
   "execution_count": 1,
   "metadata": {
    "id": "l4vRCrBkyBqL"
   },
   "outputs": [],
   "source": [
    "import matplotlib.pyplot as plt\n",
    "import numpy as np\n",
    "from scipy.io import loadmat"
   ]
  },
  {
   "cell_type": "markdown",
   "metadata": {
    "id": "pCKHGauN1h80"
   },
   "source": []
  },
  {
   "cell_type": "code",
   "execution_count": 2,
   "metadata": {
    "id": "D70GmY-MvdL5"
   },
   "outputs": [],
   "source": [
    "\n",
    "def load_mnist_dataset():\n",
    "    \"\"\"\n",
    "    Carga el archivo de datos MNIST\n",
    "\n",
    "    Regresa:\n",
    "    - mnist_data. Lista de vectores, cada uno con 784 pixeles de una imagen de 28x28\n",
    "    - mnist_label. Las etiquetas de cada imagen\n",
    "    - classes_count. El número de clases\n",
    "    - shape. La forma de cada registro\n",
    "    \"\"\"\n",
    "\n",
    "    mnist = loadmat(\"mnist-original.mat\")\n",
    "    mnist_data = mnist[\"data\"].T\n",
    "    mnist_label = mnist[\"label\"][0]\n",
    "    count = len(set(mnist_label))\n",
    "    return mnist_data, mnist_label, count, (28, 28, 1)"
   ]
  },
  {
   "cell_type": "markdown",
   "metadata": {
    "id": "kIB8sVpR2sF1"
   },
   "source": [
    "Carga de datos"
   ]
  },
  {
   "cell_type": "code",
   "execution_count": 3,
   "metadata": {
    "colab": {
     "base_uri": "https://localhost:8080/"
    },
    "id": "Fw_Pk5gDyvQT",
    "outputId": "84658e84-2e9d-44d5-d2e2-a9db9333ae13"
   },
   "outputs": [
    {
     "name": "stdout",
     "output_type": "stream",
     "text": [
      "data shape: (70000, 784)\n",
      "labels shape: (70000,)\n",
      "classes count: 10\n"
     ]
    }
   ],
   "source": [
    "data, labels, classes_count, data_shape = load_mnist_dataset()\n",
    "\n",
    "print(\"data shape: \" + str(data.shape))\n",
    "print(\"labels shape: \" + str(labels.shape))\n",
    "print(\"classes count: \" + str(classes_count))"
   ]
  },
  {
   "cell_type": "markdown",
   "metadata": {
    "id": "6KxS6m5I20OC"
   },
   "source": [
    "Cambiamos la forma de los datos para graficarlos. En vez de usar la forma vectorizada, usamos matrices de 28x28."
   ]
  },
  {
   "cell_type": "code",
   "execution_count": 5,
   "metadata": {
    "id": "qjb6OY4QzRyt"
   },
   "outputs": [],
   "source": [
    "data_reshape = data.reshape(len(data), 28, 28, 1)"
   ]
  },
  {
   "cell_type": "markdown",
   "metadata": {
    "id": "6w3oRQS92_d2"
   },
   "source": [
    "Función para imprimir una muestra aleatoria de las imágenes MNIST\n",
    "\n",
    "\n"
   ]
  },
  {
   "cell_type": "code",
   "execution_count": 10,
   "metadata": {
    "id": "Q-pSr4DXwi-X"
   },
   "outputs": [],
   "source": [
    "def plot_images_sample(X, Y):\n",
    "    # Draw plot for images sample\n",
    "    \n",
    "    plt.figure(figsize=(10,10))\n",
    "    rand_indicies = np.random.randint(len(X), size=25)\n",
    "    for i in range(25):\n",
    "        plt.subplot(5,5,i+1)\n",
    "        plt.xticks([])\n",
    "        plt.yticks([])\n",
    "        plt.grid(False)\n",
    "        index = rand_indicies[i]\n",
    "        plt.imshow(np.squeeze(X[index]), cmap=plt.cm.binary)\n",
    "        plt.xlabel(Y[index])\n",
    "    plt.show()"
   ]
  },
  {
   "cell_type": "markdown",
   "metadata": {
    "id": "CKFmkcaN3iWx"
   },
   "source": [
    "Graficamos las imágenes aleatorias"
   ]
  },
  {
   "cell_type": "code",
   "execution_count": 11,
   "metadata": {
    "colab": {
     "base_uri": "https://localhost:8080/",
     "height": 589
    },
    "id": "Sd4rX-mhxir6",
    "outputId": "707db4a5-b799-4e75-8608-3becca2f09d3"
   },
   "outputs": [
    {
     "data": {
      "image/png": "[encoded data removed]",
      "text/plain": [
       "<Figure size 720x720 with 25 Axes>"
      ]
     },
     "metadata": {},
     "output_type": "display_data"
    }
   ],
   "source": [
    "plot_images_sample(data_reshape, labels)"
   ]
  }
 ],
 "metadata": {
  "colab": {
   "name": "MNIST_load.ipynb",
   "provenance": []
  },
  "kernelspec": {
   "display_name": "Python 3",
   "language": "python",
   "name": "python3"
  },
  "language_info": {
   "codemirror_mode": {
    "name": "ipython",
    "version": 3
   },
   "file_extension": ".py",
   "mimetype": "text/x-python",
   "name": "python",
   "nbconvert_exporter": "python",
   "pygments_lexer": "ipython3",
   "version": "3.8.8"
  }
 },
 "nbformat": 4,
 "nbformat_minor": 4
}
